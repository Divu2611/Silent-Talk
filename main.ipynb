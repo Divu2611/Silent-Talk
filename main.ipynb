{
 "cells": [
  {
   "cell_type": "code",
   "execution_count": 1,
   "id": "a7a1a5b1-8b5e-492a-929e-5a7592f920dd",
   "metadata": {},
   "outputs": [],
   "source": [
    "#***************SIGN LANGUAGE TO REGIONAL LANGUAGE***************#\n",
    "#author: @Divyesh Chhabra, @Manan Gandhi, @Bhavya Patel"
   ]
  },
  {
   "cell_type": "code",
   "execution_count": 2,
   "id": "f467b2af-cf6e-4d1b-8efc-b1daf5e5d5cc",
   "metadata": {},
   "outputs": [],
   "source": [
    "import cv2 as cv"
   ]
  },
  {
   "cell_type": "code",
   "execution_count": 3,
   "id": "c49b47fd-0737-4021-81d2-876d00b67bcf",
   "metadata": {},
   "outputs": [],
   "source": [
    "startPt = tuple()\n",
    "endPt = tuple()\n",
    "drawing = bool\n",
    "drawn = bool"
   ]
  },
  {
   "cell_type": "code",
   "execution_count": 4,
   "id": "5a74f97b-8e9f-426d-a2ad-3beb4e80064d",
   "metadata": {},
   "outputs": [],
   "source": [
    "def reset():\n",
    "    global startPt,endPt,drawing,drawn\n",
    "    \n",
    "    startPt = (-1,-1)\n",
    "    endPt = (-1,-1)\n",
    "    drawing = False\n",
    "    drawn = False"
   ]
  },
  {
   "cell_type": "code",
   "execution_count": 5,
   "id": "0ab65c8c-365d-4581-8b12-92b7fb28f86d",
   "metadata": {},
   "outputs": [],
   "source": [
    "reset()\n",
    "\n",
    "def drawROI(event,x,y,flags,param):\n",
    "    global startPt,endPt,drawing,drawn\n",
    "    \n",
    "    if event == cv.EVENT_LBUTTONDOWN:\n",
    "        startPt = endPt = (x,y)\n",
    "        drawing = True\n",
    "    if event == cv.EVENT_MOUSEMOVE and drawing:\n",
    "        endPt = (x,y)\n",
    "    if event == cv.EVENT_LBUTTONUP:\n",
    "        drawn = True\n",
    "        drawing = False"
   ]
  },
  {
   "cell_type": "code",
   "execution_count": 7,
   "id": "7cccd906-9e41-4ded-8113-a5fa8173335e",
   "metadata": {},
   "outputs": [],
   "source": [
    "capture = cv.VideoCapture(0)\n",
    "\n",
    "width = int(capture.get(cv.CAP_PROP_FRAME_WIDTH))\n",
    "height = int(capture.get(cv.CAP_PROP_FRAME_HEIGHT))\n",
    "\n",
    "windowWidth,windowHeight = width*2,height*2\n",
    "\n",
    "cv.namedWindow(\"SIGN\",cv.WINDOW_NORMAL)\n",
    "cv.setMouseCallback(\"SIGN\",drawROI)\n",
    "cv.resizeWindow(\"SIGN\",windowWidth,windowHeight)\n",
    "\n",
    "while True:\n",
    "    \n",
    "    success,frame = capture.read()\n",
    "    \n",
    "    if not success:\n",
    "        print(\"Unable to record Frames\")\n",
    "        break\n",
    "        \n",
    "    frameCopy = frame.copy()\n",
    "    \n",
    "    wK = cv.waitKey(1)\n",
    "    \n",
    "    if drawing or drawn:\n",
    "        cv.rectangle(img=frameCopy,pt1=startPt,pt2=endPt,color=(255,0,255),thickness=2)\n",
    "        if drawn:\n",
    "            regionOfInterest = frameCopy[startPt[1]:endPt[1],startPt[0]:endPt[0]]\n",
    "            cv.putText(img=frameCopy,text=\"SIGNS\",org=(startPt[0],startPt[1]-5),\n",
    "                       fontFace=cv.FONT_HERSHEY_SIMPLEX,fontScale=abs(endPt[0]-startPt[0])*0.005,\n",
    "                       color=(0,255,255),thickness=4)\n",
    "    \n",
    "    cv.imshow(\"SIGN\",frameCopy)\n",
    "    \n",
    "    if wK == ord('q') or wK == 27:\n",
    "        break\n",
    "    elif wK == ord('c'):\n",
    "        reset()\n",
    "        frameCopy = frame.copy()\n",
    "\n",
    "capture.release()\n",
    "cv.destroyAllWindows()"
   ]
  },
  {
   "cell_type": "code",
   "execution_count": null,
   "id": "0f9b7a36",
   "metadata": {},
   "outputs": [],
   "source": []
  }
 ],
 "metadata": {
  "kernelspec": {
   "display_name": "Python 3 (ipykernel)",
   "language": "python",
   "name": "python3"
  },
  "language_info": {
   "codemirror_mode": {
    "name": "ipython",
    "version": 3
   },
   "file_extension": ".py",
   "mimetype": "text/x-python",
   "name": "python",
   "nbconvert_exporter": "python",
   "pygments_lexer": "ipython3",
   "version": "3.8.10"
  }
 },
 "nbformat": 4,
 "nbformat_minor": 5
}
