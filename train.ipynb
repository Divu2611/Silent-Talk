{
 "cells": [
  {
   "cell_type": "markdown",
   "id": "4fc8b478",
   "metadata": {},
   "source": [
    "## Importing Libraries"
   ]
  },
  {
   "cell_type": "code",
   "execution_count": 1,
   "id": "2bad9182",
   "metadata": {},
   "outputs": [],
   "source": [
    "import os"
   ]
  },
  {
   "cell_type": "code",
   "execution_count": 2,
   "id": "24e1d9b8",
   "metadata": {
    "scrolled": true
   },
   "outputs": [
    {
     "name": "stdout",
     "output_type": "stream",
     "text": [
      "importing Jupyter notebook from model.ipynb\n",
      "WARNING:tensorflow:NCCL is not supported when using virtual GPUs, fallingback to reduction to one device\n",
      "INFO:tensorflow:Using MirroredStrategy with devices ('/job:localhost/replica:0/task:0/device:CPU:0',)\n",
      "importing Jupyter notebook from /data/Sign Language to Regional Language (DEMO)/Dataset/ASL/data_classification.ipynb\n"
     ]
    }
   ],
   "source": [
    "import import_ipynb\n",
    "\n",
    "from model import vgg16, get_strategy\n",
    "from Dataset.ASL.data_classification import get_train_data, get_val_data"
   ]
  },
  {
   "cell_type": "markdown",
   "id": "cd8cfb57",
   "metadata": {},
   "source": [
    "## Getting Data"
   ]
  },
  {
   "cell_type": "code",
   "execution_count": 3,
   "id": "a252da24",
   "metadata": {},
   "outputs": [
    {
     "name": "stdout",
     "output_type": "stream",
     "text": [
      "Types of signs found:  39\n"
     ]
    }
   ],
   "source": [
    "dataset_path = 'Dataset/ASL/data/'\n",
    "sign_types = os.listdir('Dataset/ASL/data')\n",
    "\n",
    "print('Types of signs found: ', len(sign_types))"
   ]
  },
  {
   "cell_type": "markdown",
   "id": "b36b0f12",
   "metadata": {},
   "source": [
    "### Getting the training data"
   ]
  },
  {
   "cell_type": "code",
   "execution_count": 4,
   "id": "bbbf0325",
   "metadata": {},
   "outputs": [
    {
     "name": "stdout",
     "output_type": "stream",
     "text": [
      "Found 90560 images belonging to 39 classes.\n"
     ]
    }
   ],
   "source": [
    "train_data = get_train_data('Dataset/ASL/classified data/train')"
   ]
  },
  {
   "cell_type": "markdown",
   "id": "3b2d891b",
   "metadata": {},
   "source": [
    "### Getting the validation data"
   ]
  },
  {
   "cell_type": "code",
   "execution_count": 5,
   "id": "2108a760",
   "metadata": {},
   "outputs": [
    {
     "name": "stdout",
     "output_type": "stream",
     "text": [
      "Found 22640 images belonging to 39 classes.\n"
     ]
    }
   ],
   "source": [
    "val_data = get_val_data('Dataset/ASL/classified data/val')"
   ]
  },
  {
   "cell_type": "markdown",
   "id": "2f2e72a2",
   "metadata": {},
   "source": [
    "## Training Model"
   ]
  },
  {
   "cell_type": "code",
   "execution_count": 6,
   "id": "4d5a0543",
   "metadata": {},
   "outputs": [],
   "source": [
    "strategy = get_strategy()"
   ]
  },
  {
   "cell_type": "code",
   "execution_count": 7,
   "id": "e6f13226",
   "metadata": {},
   "outputs": [],
   "source": [
    "cnnModel = vgg16(classes = 39)"
   ]
  },
  {
   "cell_type": "code",
   "execution_count": null,
   "id": "38c0410d",
   "metadata": {},
   "outputs": [
    {
     "name": "stdout",
     "output_type": "stream",
     "text": [
      "Epoch 1/5\n",
      "5660/5660 [==============================] - 23336s 4s/step - loss: 3.2255 - accuracy: 0.1090 - val_loss: 1.3975 - val_accuracy: 0.5793\n",
      "Epoch 2/5\n",
      "3982/5660 [====================>.........] - ETA: 1:51:12 - loss: 1.2642 - accuracy: 0.6125"
     ]
    },
    {
     "name": "stderr",
     "output_type": "stream",
     "text": [
      "IOPub message rate exceeded.\n",
      "The notebook server will temporarily stop sending output\n",
      "to the client in order to avoid crashing it.\n",
      "To change this limit, set the config variable\n",
      "`--NotebookApp.iopub_msg_rate_limit`.\n",
      "\n",
      "Current values:\n",
      "NotebookApp.iopub_msg_rate_limit=1000.0 (msgs/sec)\n",
      "NotebookApp.rate_limit_window=3.0 (secs)\n",
      "\n"
     ]
    },
    {
     "name": "stdout",
     "output_type": "stream",
     "text": [
      "3935/5660 [===================>..........] - ETA: 1:55:21 - loss: 0.5427 - accuracy: 0.8245"
     ]
    },
    {
     "name": "stderr",
     "output_type": "stream",
     "text": [
      "IOPub message rate exceeded.\n",
      "The notebook server will temporarily stop sending output\n",
      "to the client in order to avoid crashing it.\n",
      "To change this limit, set the config variable\n",
      "`--NotebookApp.iopub_msg_rate_limit`.\n",
      "\n",
      "Current values:\n",
      "NotebookApp.iopub_msg_rate_limit=1000.0 (msgs/sec)\n",
      "NotebookApp.rate_limit_window=3.0 (secs)\n",
      "\n"
     ]
    },
    {
     "name": "stdout",
     "output_type": "stream",
     "text": [
      "5660/5660 [==============================] - 23540s 4s/step - loss: 0.3306 - accuracy: 0.8930 - val_loss: 0.2078 - val_accuracy: 0.9312\n",
      "Epoch 5/5\n",
      "5660/5660 [==============================] - ETA: 0s - loss: 0.2289 - accuracy: 0.9242"
     ]
    }
   ],
   "source": [
    "cnnModel.compile(optimizer='sgd',loss='categorical_crossentropy',metrics=['accuracy'])    \n",
    "cnnModel.fit(x=train_data,validation_data=val_data,epochs=5)"
   ]
  },
  {
   "cell_type": "markdown",
   "id": "38d01959",
   "metadata": {},
   "source": [
    "## Saving Model"
   ]
  },
  {
   "cell_type": "code",
   "execution_count": 9,
   "id": "c6a2e20d",
   "metadata": {},
   "outputs": [],
   "source": [
    "cnnModel.save('cnnModel1.h5')"
   ]
  }
 ],
 "metadata": {
  "kernelspec": {
   "display_name": "Python 3 (ipykernel)",
   "language": "python",
   "name": "python3"
  },
  "language_info": {
   "codemirror_mode": {
    "name": "ipython",
    "version": 3
   },
   "file_extension": ".py",
   "mimetype": "text/x-python",
   "name": "python",
   "nbconvert_exporter": "python",
   "pygments_lexer": "ipython3",
   "version": "3.8.10"
  }
 },
 "nbformat": 4,
 "nbformat_minor": 5
}
