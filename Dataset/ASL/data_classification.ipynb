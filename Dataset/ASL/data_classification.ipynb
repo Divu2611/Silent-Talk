{
 "cells": [
  {
   "cell_type": "markdown",
   "id": "2c00a4a2",
   "metadata": {},
   "source": [
    "## Importing Libraries"
   ]
  },
  {
   "cell_type": "code",
   "execution_count": 1,
   "id": "e87dc4c2",
   "metadata": {},
   "outputs": [],
   "source": [
    "from tensorflow.keras.preprocessing.image import ImageDataGenerator"
   ]
  },
  {
   "cell_type": "code",
   "execution_count": 2,
   "id": "7a574b16",
   "metadata": {},
   "outputs": [],
   "source": [
    "import splitfolders as sf"
   ]
  },
  {
   "cell_type": "markdown",
   "id": "d6603198",
   "metadata": {},
   "source": [
    "## Splitting Data into Training and Validation Data"
   ]
  },
  {
   "cell_type": "code",
   "execution_count": 15,
   "id": "c1588deb",
   "metadata": {},
   "outputs": [],
   "source": [
    "# inputFolder = 'data'\n",
    "# outputFolder = 'classified data'"
   ]
  },
  {
   "cell_type": "code",
   "execution_count": 16,
   "id": "9ad2c52b",
   "metadata": {},
   "outputs": [],
   "source": [
    "# sf.ratio(inputFolder,output=outputFolder,ratio=(0.8,0.2))"
   ]
  },
  {
   "cell_type": "markdown",
   "id": "47dc3cb2",
   "metadata": {},
   "source": [
    "### Training Data"
   ]
  },
  {
   "cell_type": "code",
   "execution_count": 5,
   "id": "bf0995df",
   "metadata": {},
   "outputs": [],
   "source": [
    "def get_train_data(path):\n",
    "    train_datagen = ImageDataGenerator(rescale = 1./255, shear_range = 0.2, zoom_range = 0.2, \n",
    "                                       horizontal_flip = True, vertical_flip = True)\n",
    "    \n",
    "    return train_datagen.flow_from_directory(path, target_size=(300,300), \n",
    "                                             batch_size=16, class_mode='categorical')  "
   ]
  },
  {
   "cell_type": "markdown",
   "id": "ce70d549",
   "metadata": {},
   "source": [
    "### Validation Data"
   ]
  },
  {
   "cell_type": "code",
   "execution_count": 6,
   "id": "7c5aca16",
   "metadata": {},
   "outputs": [],
   "source": [
    "def get_val_data(path):\n",
    "    val_datagen = ImageDataGenerator(rescale=1./255)\n",
    "    return val_datagen.flow_from_directory(path, target_size=(300,300),\n",
    "                                           batch_size=16, class_mode='categorical')"
   ]
  }
 ],
 "metadata": {
  "kernelspec": {
   "display_name": "Python 3 (ipykernel)",
   "language": "python",
   "name": "python3"
  },
  "language_info": {
   "codemirror_mode": {
    "name": "ipython",
    "version": 3
   },
   "file_extension": ".py",
   "mimetype": "text/x-python",
   "name": "python",
   "nbconvert_exporter": "python",
   "pygments_lexer": "ipython3",
   "version": "3.8.10"
  }
 },
 "nbformat": 4,
 "nbformat_minor": 5
}
