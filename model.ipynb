{
 "cells": [
  {
   "cell_type": "markdown",
   "metadata": {},
   "source": [
    "## Importing Libraries"
   ]
  },
  {
   "cell_type": "code",
   "execution_count": 1,
   "metadata": {},
   "outputs": [],
   "source": [
    "import tensorflow as tf\n",
    "from tensorflow import keras as ks\n",
    "\n",
    "tf.config.set_visible_devices([], 'GPU')"
   ]
  },
  {
   "cell_type": "code",
   "execution_count": 2,
   "metadata": {},
   "outputs": [],
   "source": [
    "from tensorflow.keras.models import Model\n",
    "from tensorflow.keras.layers import Flatten, Dense, Input, Conv2D, MaxPool2D"
   ]
  },
  {
   "cell_type": "markdown",
   "metadata": {},
   "source": [
    "## The Strategy"
   ]
  },
  {
   "cell_type": "code",
   "execution_count": 3,
   "metadata": {},
   "outputs": [
    {
     "name": "stdout",
     "output_type": "stream",
     "text": [
      "WARNING:tensorflow:NCCL is not supported when using virtual GPUs, fallingback to reduction to one device\n",
      "INFO:tensorflow:Using MirroredStrategy with devices ('/job:localhost/replica:0/task:0/device:CPU:0',)\n"
     ]
    }
   ],
   "source": [
    "strategy = tf.distribute.MirroredStrategy()"
   ]
  },
  {
   "cell_type": "code",
   "execution_count": 4,
   "metadata": {},
   "outputs": [],
   "source": [
    "def get_strategy():\n",
    "    return strategy"
   ]
  },
  {
   "cell_type": "markdown",
   "metadata": {},
   "source": [
    "## The Model"
   ]
  },
  {
   "cell_type": "code",
   "execution_count": 5,
   "metadata": {},
   "outputs": [],
   "source": [
    "def vgg16(classes):\n",
    "    \n",
    "    img_rows, img_cols = 300,300\n",
    "    img_channels = 3\n",
    "    \n",
    "    img_dims = (img_rows, img_cols, img_channels)\n",
    "    \n",
    "    img_input = Input(shape = img_dims)\n",
    "    \n",
    "    #Block 1\n",
    "    x = Conv2D(filters=64,kernel_size=3,activation='relu',name='block1_conv1')(img_input)\n",
    "    x = Conv2D(filters=64,kernel_size=3,activation='relu',name='block1_conv2')(x)\n",
    "    x = MaxPool2D(pool_size=2,strides=2,name='block1_maxPool')(x)\n",
    "    \n",
    "    #Block 2\n",
    "    x = Conv2D(filters=128,kernel_size=3,activation='relu',name='block2_conv1')(x)\n",
    "    x = Conv2D(filters=128,kernel_size=3,activation='relu',name='block2_conv2')(x)\n",
    "    x = MaxPool2D(pool_size=2,strides=2,name='block2_maxPool')(x)\n",
    "    \n",
    "    #Block 3\n",
    "    x = Conv2D(filters=256,kernel_size=3,activation='relu',name='block3_conv1')(x)\n",
    "    x = Conv2D(filters=256,kernel_size=3,activation='relu',name='block3_conv2')(x)\n",
    "    x = Conv2D(filters=256,kernel_size=3,activation='relu',name='block3_conv3')(x)\n",
    "    x = MaxPool2D(pool_size=2,strides=2,name='block3_maxPool')(x)\n",
    "    \n",
    "    #Block 4\n",
    "    x = Conv2D(filters=512,kernel_size=3,activation='relu',name='block4_conv1')(x)\n",
    "    x = Conv2D(filters=512,kernel_size=3,activation='relu',name='block4_conv2')(x)\n",
    "    x = Conv2D(filters=512,kernel_size=3,activation='relu',name='block4_conv3')(x)\n",
    "    x = MaxPool2D(pool_size=2,strides=2,name='block4_maxPool')(x)\n",
    "    \n",
    "    #Block 5\n",
    "    x = Conv2D(filters=512,kernel_size=3,activation='relu',name='block5_conv1')(x)\n",
    "    x = Conv2D(filters=512,kernel_size=3,activation='relu',name='block5_conv2')(x)\n",
    "    x = Conv2D(filters=512,kernel_size=3,activation='relu',name='block5_conv3')(x)\n",
    "    x = MaxPool2D(pool_size=2,strides=2,name='block5_maxPool')(x)\n",
    "    \n",
    "    #Classification Block\n",
    "    x = Flatten(name='flatten')(x)\n",
    "    x = Dense(units=4096,activation='relu')(x)\n",
    "    x = Dense(units=4096,activation='relu')(x)\n",
    "    x = Dense(units=classes,activation='softmax')(x)\n",
    "    \n",
    "    #Creating Model\n",
    "    model = Model(inputs = img_input, outputs = x, name='vgg16')\n",
    "    \n",
    "    return model"
   ]
  }
 ],
 "metadata": {
  "kernelspec": {
   "display_name": "Python 3",
   "language": "python",
   "name": "python3"
  },
  "language_info": {
   "codemirror_mode": {
    "name": "ipython",
    "version": 3
   },
   "file_extension": ".py",
   "mimetype": "text/x-python",
   "name": "python",
   "nbconvert_exporter": "python",
   "pygments_lexer": "ipython3",
   "version": "3.8.5"
  }
 },
 "nbformat": 4,
 "nbformat_minor": 5
}
