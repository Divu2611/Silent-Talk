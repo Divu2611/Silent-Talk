{
 "cells": [
  {
   "cell_type": "code",
   "execution_count": 23,
   "metadata": {},
   "outputs": [],
   "source": [
    "from tensorflow import keras as ks\n",
    "import numpy as np\n",
    "import os"
   ]
  },
  {
   "cell_type": "code",
   "execution_count": 24,
   "metadata": {},
   "outputs": [],
   "source": [
    "root_dir = 'Dataset/ASL/classified data/test/'"
   ]
  },
  {
   "cell_type": "code",
   "execution_count": 26,
   "metadata": {},
   "outputs": [],
   "source": [
    "model = ks.models.load_model(\"Models/cnnModel1.h5\")"
   ]
  },
  {
   "cell_type": "code",
   "execution_count": 27,
   "metadata": {
    "scrolled": true
   },
   "outputs": [],
   "source": [
    "y_true = [10,11,12,13,14,15,16,17,18,19,20,21,22,37,23,24,25,26,27,38,28,29,30,31,32,33,34,35]\n",
    "y_pred = list()"
   ]
  },
  {
   "cell_type": "code",
   "execution_count": 28,
   "metadata": {},
   "outputs": [],
   "source": [
    "for i in os.listdir(root_dir):\n",
    "    image = ks.preprocessing.image.load_img(root_dir + i,target_size=(300,300))\n",
    "    image = ks.preprocessing.image.img_to_array(image)\n",
    "    image = np.expand_dims(image,axis=0)\n",
    "    result = model.predict(image)\n",
    "    \n",
    "    mx = 0\n",
    "    ind = 0\n",
    "    \n",
    "    for j in result[0]:\n",
    "        if j > mx:\n",
    "            mx = j\n",
    "            ind = list(result[0]).index(j)\n",
    "            \n",
    "    y_pred.append(ind)"
   ]
  },
  {
   "cell_type": "code",
   "execution_count": 29,
   "metadata": {},
   "outputs": [
    {
     "name": "stdout",
     "output_type": "stream",
     "text": [
      "Accuracy: 78.57142857142857 %\n"
     ]
    }
   ],
   "source": [
    "from sklearn.metrics import accuracy_score as acc\n",
    "print(\"Accuracy: {} %\".format(acc(y_true,y_pred)*100))"
   ]
  },
  {
   "cell_type": "code",
   "execution_count": 30,
   "metadata": {},
   "outputs": [
    {
     "data": {
      "text/plain": [
       "[[10, 21],\n",
       " [11, 11],\n",
       " [12, 12],\n",
       " [13, 13],\n",
       " [14, 14],\n",
       " [15, 15],\n",
       " [16, 16],\n",
       " [17, 17],\n",
       " [18, 18],\n",
       " [19, 19],\n",
       " [20, 31],\n",
       " [21, 21],\n",
       " [22, 14],\n",
       " [37, 37],\n",
       " [23, 23],\n",
       " [24, 24],\n",
       " [25, 25],\n",
       " [26, 26],\n",
       " [27, 27],\n",
       " [38, 38],\n",
       " [28, 14],\n",
       " [29, 29],\n",
       " [30, 30],\n",
       " [31, 31],\n",
       " [32, 27],\n",
       " [33, 32],\n",
       " [34, 34],\n",
       " [35, 35]]"
      ]
     },
     "execution_count": 30,
     "metadata": {},
     "output_type": "execute_result"
    }
   ],
   "source": [
    "test = list()\n",
    "\n",
    "for i in y_true:\n",
    "    test.append([i])\n",
    "\n",
    "for i in range(len(test)):\n",
    "    test[i].append(y_pred[i])\n",
    "\n",
    "test"
   ]
  },
  {
   "cell_type": "code",
   "execution_count": null,
   "metadata": {},
   "outputs": [],
   "source": []
  }
 ],
 "metadata": {
  "kernelspec": {
   "display_name": "Python 3",
   "language": "python",
   "name": "python3"
  },
  "language_info": {
   "codemirror_mode": {
    "name": "ipython",
    "version": 3
   },
   "file_extension": ".py",
   "mimetype": "text/x-python",
   "name": "python",
   "nbconvert_exporter": "python",
   "pygments_lexer": "ipython3",
   "version": "3.8.5"
  }
 },
 "nbformat": 4,
 "nbformat_minor": 4
}
